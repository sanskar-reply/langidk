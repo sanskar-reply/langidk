{
 "cells": [
  {
   "cell_type": "code",
   "execution_count": 1,
   "metadata": {},
   "outputs": [
    {
     "name": "stdout",
     "output_type": "stream",
     "text": [
      "Requirement already satisfied: google-cloud-aiplatform in /Users/sanskar/.local/lib/python3.11/site-packages (1.32.0)\n",
      "Requirement already satisfied: langchain==0.0.229 in /Users/sanskar/.local/lib/python3.11/site-packages (0.0.229)\n",
      "Requirement already satisfied: chromadb==0.3.26 in /Users/sanskar/opt/anaconda3/envs/newwwwww/lib/python3.11/site-packages (0.3.26)\n",
      "Requirement already satisfied: pydantic==1.10.8 in /Users/sanskar/opt/anaconda3/envs/newwwwww/lib/python3.11/site-packages (1.10.8)\n",
      "Requirement already satisfied: typing-inspect==0.8.0 in /Users/sanskar/.local/lib/python3.11/site-packages (0.8.0)\n",
      "Requirement already satisfied: typing_extensions==4.5.0 in /Users/sanskar/.local/lib/python3.11/site-packages (4.5.0)\n",
      "Requirement already satisfied: pandas in /Users/sanskar/opt/anaconda3/envs/newwwwww/lib/python3.11/site-packages (2.1.0)\n",
      "Requirement already satisfied: datasets in /Users/sanskar/.local/lib/python3.11/site-packages (2.14.5)\n",
      "Requirement already satisfied: google-api-python-client in /Users/sanskar/.local/lib/python3.11/site-packages (2.98.0)\n",
      "Requirement already satisfied: pypdf in /Users/sanskar/opt/anaconda3/envs/newwwwww/lib/python3.11/site-packages (3.15.5)\n",
      "Requirement already satisfied: faiss-cpu in /Users/sanskar/.local/lib/python3.11/site-packages (1.7.4)\n",
      "Requirement already satisfied: transformers in /Users/sanskar/.local/lib/python3.11/site-packages (4.33.1)\n",
      "Requirement already satisfied: config in /Users/sanskar/.local/lib/python3.11/site-packages (0.5.1)\n",
      "Requirement already satisfied: PyYAML>=5.4.1 in /Users/sanskar/opt/anaconda3/envs/newwwwww/lib/python3.11/site-packages (from langchain==0.0.229) (6.0.1)\n",
      "Requirement already satisfied: SQLAlchemy<3,>=1.4 in /Users/sanskar/opt/anaconda3/envs/newwwwww/lib/python3.11/site-packages (from langchain==0.0.229) (2.0.20)\n",
      "Requirement already satisfied: aiohttp<4.0.0,>=3.8.3 in /Users/sanskar/opt/anaconda3/envs/newwwwww/lib/python3.11/site-packages (from langchain==0.0.229) (3.8.5)\n",
      "Requirement already satisfied: dataclasses-json<0.6.0,>=0.5.7 in /Users/sanskar/opt/anaconda3/envs/newwwwww/lib/python3.11/site-packages (from langchain==0.0.229) (0.5.14)\n",
      "Requirement already satisfied: langchainplus-sdk<0.0.21,>=0.0.20 in /Users/sanskar/.local/lib/python3.11/site-packages (from langchain==0.0.229) (0.0.20)\n",
      "Requirement already satisfied: numexpr<3.0.0,>=2.8.4 in /Users/sanskar/opt/anaconda3/envs/newwwwww/lib/python3.11/site-packages (from langchain==0.0.229) (2.8.5)\n",
      "Requirement already satisfied: numpy<2,>=1 in /Users/sanskar/opt/anaconda3/envs/newwwwww/lib/python3.11/site-packages (from langchain==0.0.229) (1.25.2)\n",
      "Requirement already satisfied: openapi-schema-pydantic<2.0,>=1.2 in /Users/sanskar/.local/lib/python3.11/site-packages (from langchain==0.0.229) (1.2.4)\n",
      "Requirement already satisfied: requests<3,>=2 in /Users/sanskar/opt/anaconda3/envs/newwwwww/lib/python3.11/site-packages (from langchain==0.0.229) (2.31.0)\n",
      "Requirement already satisfied: tenacity<9.0.0,>=8.1.0 in /Users/sanskar/opt/anaconda3/envs/newwwwww/lib/python3.11/site-packages (from langchain==0.0.229) (8.2.3)\n",
      "Requirement already satisfied: hnswlib>=0.7 in /Users/sanskar/opt/anaconda3/envs/newwwwww/lib/python3.11/site-packages (from chromadb==0.3.26) (0.7.0)\n",
      "Requirement already satisfied: clickhouse-connect>=0.5.7 in /Users/sanskar/opt/anaconda3/envs/newwwwww/lib/python3.11/site-packages (from chromadb==0.3.26) (0.6.11)\n",
      "Requirement already satisfied: duckdb>=0.7.1 in /Users/sanskar/opt/anaconda3/envs/newwwwww/lib/python3.11/site-packages (from chromadb==0.3.26) (0.8.1)\n",
      "Requirement already satisfied: fastapi>=0.85.1 in /Users/sanskar/opt/anaconda3/envs/newwwwww/lib/python3.11/site-packages (from chromadb==0.3.26) (0.103.1)\n",
      "Requirement already satisfied: uvicorn[standard]>=0.18.3 in /Users/sanskar/opt/anaconda3/envs/newwwwww/lib/python3.11/site-packages (from chromadb==0.3.26) (0.23.2)\n",
      "Requirement already satisfied: posthog>=2.4.0 in /Users/sanskar/opt/anaconda3/envs/newwwwww/lib/python3.11/site-packages (from chromadb==0.3.26) (3.0.2)\n",
      "Requirement already satisfied: pulsar-client>=3.1.0 in /Users/sanskar/opt/anaconda3/envs/newwwwww/lib/python3.11/site-packages (from chromadb==0.3.26) (3.3.0)\n",
      "Requirement already satisfied: onnxruntime>=1.14.1 in /Users/sanskar/opt/anaconda3/envs/newwwwww/lib/python3.11/site-packages (from chromadb==0.3.26) (1.15.1)\n",
      "Requirement already satisfied: tokenizers>=0.13.2 in /Users/sanskar/opt/anaconda3/envs/newwwwww/lib/python3.11/site-packages (from chromadb==0.3.26) (0.13.3)\n",
      "Requirement already satisfied: tqdm>=4.65.0 in /Users/sanskar/opt/anaconda3/envs/newwwwww/lib/python3.11/site-packages (from chromadb==0.3.26) (4.66.1)\n",
      "Requirement already satisfied: overrides>=7.3.1 in /Users/sanskar/opt/anaconda3/envs/newwwwww/lib/python3.11/site-packages (from chromadb==0.3.26) (7.4.0)\n",
      "Requirement already satisfied: mypy-extensions>=0.3.0 in /Users/sanskar/opt/anaconda3/envs/newwwwww/lib/python3.11/site-packages (from typing-inspect==0.8.0) (1.0.0)\n",
      "Requirement already satisfied: google-api-core[grpc]!=2.0.*,!=2.1.*,!=2.2.*,!=2.3.*,!=2.4.*,!=2.5.*,!=2.6.*,!=2.7.*,<3.0.0dev,>=1.32.0 in /Users/sanskar/opt/anaconda3/envs/newwwwww/lib/python3.11/site-packages (from google-cloud-aiplatform) (2.11.1)\n",
      "Requirement already satisfied: proto-plus<2.0.0dev,>=1.22.0 in /Users/sanskar/opt/anaconda3/envs/newwwwww/lib/python3.11/site-packages (from google-cloud-aiplatform) (1.22.3)\n",
      "Requirement already satisfied: protobuf!=3.20.0,!=3.20.1,!=4.21.0,!=4.21.1,!=4.21.2,!=4.21.3,!=4.21.4,!=4.21.5,<5.0.0dev,>=3.19.5 in /Users/sanskar/opt/anaconda3/envs/newwwwww/lib/python3.11/site-packages (from google-cloud-aiplatform) (4.24.2)\n",
      "Requirement already satisfied: packaging>=14.3 in /Users/sanskar/opt/anaconda3/envs/newwwwww/lib/python3.11/site-packages (from google-cloud-aiplatform) (23.1)\n",
      "Requirement already satisfied: google-cloud-storage<3.0.0dev,>=1.32.0 in /Users/sanskar/opt/anaconda3/envs/newwwwww/lib/python3.11/site-packages (from google-cloud-aiplatform) (2.10.0)\n",
      "Requirement already satisfied: google-cloud-bigquery<4.0.0dev,>=1.15.0 in /Users/sanskar/opt/anaconda3/envs/newwwwww/lib/python3.11/site-packages (from google-cloud-aiplatform) (3.11.4)\n",
      "Requirement already satisfied: google-cloud-resource-manager<3.0.0dev,>=1.3.3 in /Users/sanskar/opt/anaconda3/envs/newwwwww/lib/python3.11/site-packages (from google-cloud-aiplatform) (1.10.3)\n",
      "Requirement already satisfied: shapely<2.0.0 in /Users/sanskar/opt/anaconda3/envs/newwwwww/lib/python3.11/site-packages (from google-cloud-aiplatform) (1.8.5.post1)\n",
      "Requirement already satisfied: python-dateutil>=2.8.2 in /Users/sanskar/opt/anaconda3/envs/newwwwww/lib/python3.11/site-packages (from pandas) (2.8.2)\n",
      "Requirement already satisfied: pytz>=2020.1 in /Users/sanskar/opt/anaconda3/envs/newwwwww/lib/python3.11/site-packages (from pandas) (2023.3.post1)\n",
      "Requirement already satisfied: tzdata>=2022.1 in /Users/sanskar/opt/anaconda3/envs/newwwwww/lib/python3.11/site-packages (from pandas) (2023.3)\n",
      "Requirement already satisfied: pyarrow>=8.0.0 in /Users/sanskar/.local/lib/python3.11/site-packages (from datasets) (13.0.0)\n",
      "Requirement already satisfied: dill<0.3.8,>=0.3.0 in /Users/sanskar/.local/lib/python3.11/site-packages (from datasets) (0.3.7)\n",
      "Requirement already satisfied: xxhash in /Users/sanskar/.local/lib/python3.11/site-packages (from datasets) (3.3.0)\n",
      "Requirement already satisfied: multiprocess in /Users/sanskar/.local/lib/python3.11/site-packages (from datasets) (0.70.15)\n",
      "Requirement already satisfied: fsspec[http]<2023.9.0,>=2023.1.0 in /Users/sanskar/.local/lib/python3.11/site-packages (from datasets) (2023.6.0)\n",
      "Requirement already satisfied: huggingface-hub<1.0.0,>=0.14.0 in /Users/sanskar/.local/lib/python3.11/site-packages (from datasets) (0.16.4)\n",
      "Requirement already satisfied: httplib2<1.dev0,>=0.15.0 in /Users/sanskar/.local/lib/python3.11/site-packages (from google-api-python-client) (0.22.0)\n",
      "Requirement already satisfied: google-auth<3.0.0.dev0,>=1.19.0 in /Users/sanskar/opt/anaconda3/envs/newwwwww/lib/python3.11/site-packages (from google-api-python-client) (2.22.0)\n",
      "Requirement already satisfied: google-auth-httplib2>=0.1.0 in /Users/sanskar/.local/lib/python3.11/site-packages (from google-api-python-client) (0.1.0)\n",
      "Requirement already satisfied: uritemplate<5,>=3.0.1 in /Users/sanskar/.local/lib/python3.11/site-packages (from google-api-python-client) (4.1.1)\n",
      "Requirement already satisfied: filelock in /Users/sanskar/.local/lib/python3.11/site-packages (from transformers) (3.12.3)\n",
      "Requirement already satisfied: regex!=2019.12.17 in /Users/sanskar/opt/anaconda3/envs/newwwwww/lib/python3.11/site-packages (from transformers) (2023.8.8)\n",
      "Requirement already satisfied: safetensors>=0.3.1 in /Users/sanskar/.local/lib/python3.11/site-packages (from transformers) (0.3.3)\n",
      "Requirement already satisfied: attrs>=17.3.0 in /Users/sanskar/opt/anaconda3/envs/newwwwww/lib/python3.11/site-packages (from aiohttp<4.0.0,>=3.8.3->langchain==0.0.229) (23.1.0)\n",
      "Requirement already satisfied: charset-normalizer<4.0,>=2.0 in /Users/sanskar/opt/anaconda3/envs/newwwwww/lib/python3.11/site-packages (from aiohttp<4.0.0,>=3.8.3->langchain==0.0.229) (3.2.0)\n",
      "Requirement already satisfied: multidict<7.0,>=4.5 in /Users/sanskar/opt/anaconda3/envs/newwwwww/lib/python3.11/site-packages (from aiohttp<4.0.0,>=3.8.3->langchain==0.0.229) (6.0.4)\n",
      "Requirement already satisfied: async-timeout<5.0,>=4.0.0a3 in /Users/sanskar/opt/anaconda3/envs/newwwwww/lib/python3.11/site-packages (from aiohttp<4.0.0,>=3.8.3->langchain==0.0.229) (4.0.3)\n",
      "Requirement already satisfied: yarl<2.0,>=1.0 in /Users/sanskar/opt/anaconda3/envs/newwwwww/lib/python3.11/site-packages (from aiohttp<4.0.0,>=3.8.3->langchain==0.0.229) (1.9.2)\n",
      "Requirement already satisfied: frozenlist>=1.1.1 in /Users/sanskar/opt/anaconda3/envs/newwwwww/lib/python3.11/site-packages (from aiohttp<4.0.0,>=3.8.3->langchain==0.0.229) (1.4.0)\n",
      "Requirement already satisfied: aiosignal>=1.1.2 in /Users/sanskar/opt/anaconda3/envs/newwwwww/lib/python3.11/site-packages (from aiohttp<4.0.0,>=3.8.3->langchain==0.0.229) (1.3.1)\n",
      "Requirement already satisfied: certifi in /Users/sanskar/opt/anaconda3/envs/newwwwww/lib/python3.11/site-packages (from clickhouse-connect>=0.5.7->chromadb==0.3.26) (2023.7.22)\n",
      "Requirement already satisfied: urllib3>=1.26 in /Users/sanskar/opt/anaconda3/envs/newwwwww/lib/python3.11/site-packages (from clickhouse-connect>=0.5.7->chromadb==0.3.26) (1.26.16)\n",
      "Requirement already satisfied: zstandard in /Users/sanskar/opt/anaconda3/envs/newwwwww/lib/python3.11/site-packages (from clickhouse-connect>=0.5.7->chromadb==0.3.26) (0.21.0)\n",
      "Requirement already satisfied: lz4 in /Users/sanskar/opt/anaconda3/envs/newwwwww/lib/python3.11/site-packages (from clickhouse-connect>=0.5.7->chromadb==0.3.26) (4.3.2)\n",
      "Requirement already satisfied: marshmallow<4.0.0,>=3.18.0 in /Users/sanskar/opt/anaconda3/envs/newwwwww/lib/python3.11/site-packages (from dataclasses-json<0.6.0,>=0.5.7->langchain==0.0.229) (3.20.1)\n",
      "Requirement already satisfied: anyio<4.0.0,>=3.7.1 in /Users/sanskar/opt/anaconda3/envs/newwwwww/lib/python3.11/site-packages (from fastapi>=0.85.1->chromadb==0.3.26) (3.7.1)\n",
      "Requirement already satisfied: starlette<0.28.0,>=0.27.0 in /Users/sanskar/opt/anaconda3/envs/newwwwww/lib/python3.11/site-packages (from fastapi>=0.85.1->chromadb==0.3.26) (0.27.0)\n",
      "Requirement already satisfied: googleapis-common-protos<2.0.dev0,>=1.56.2 in /Users/sanskar/opt/anaconda3/envs/newwwwww/lib/python3.11/site-packages (from google-api-core[grpc]!=2.0.*,!=2.1.*,!=2.2.*,!=2.3.*,!=2.4.*,!=2.5.*,!=2.6.*,!=2.7.*,<3.0.0dev,>=1.32.0->google-cloud-aiplatform) (1.60.0)\n",
      "Requirement already satisfied: grpcio<2.0dev,>=1.33.2 in /Users/sanskar/opt/anaconda3/envs/newwwwww/lib/python3.11/site-packages (from google-api-core[grpc]!=2.0.*,!=2.1.*,!=2.2.*,!=2.3.*,!=2.4.*,!=2.5.*,!=2.6.*,!=2.7.*,<3.0.0dev,>=1.32.0->google-cloud-aiplatform) (1.57.0)\n",
      "Requirement already satisfied: grpcio-status<2.0.dev0,>=1.33.2 in /Users/sanskar/opt/anaconda3/envs/newwwwww/lib/python3.11/site-packages (from google-api-core[grpc]!=2.0.*,!=2.1.*,!=2.2.*,!=2.3.*,!=2.4.*,!=2.5.*,!=2.6.*,!=2.7.*,<3.0.0dev,>=1.32.0->google-cloud-aiplatform) (1.57.0)\n",
      "Requirement already satisfied: cachetools<6.0,>=2.0.0 in /Users/sanskar/opt/anaconda3/envs/newwwwww/lib/python3.11/site-packages (from google-auth<3.0.0.dev0,>=1.19.0->google-api-python-client) (5.3.1)\n",
      "Requirement already satisfied: pyasn1-modules>=0.2.1 in /Users/sanskar/opt/anaconda3/envs/newwwwww/lib/python3.11/site-packages (from google-auth<3.0.0.dev0,>=1.19.0->google-api-python-client) (0.3.0)\n",
      "Requirement already satisfied: rsa<5,>=3.1.4 in /Users/sanskar/opt/anaconda3/envs/newwwwww/lib/python3.11/site-packages (from google-auth<3.0.0.dev0,>=1.19.0->google-api-python-client) (4.9)\n",
      "Requirement already satisfied: six>=1.9.0 in /Users/sanskar/opt/anaconda3/envs/newwwwww/lib/python3.11/site-packages (from google-auth<3.0.0.dev0,>=1.19.0->google-api-python-client) (1.16.0)\n",
      "Requirement already satisfied: google-cloud-core<3.0.0dev,>=1.6.0 in /Users/sanskar/opt/anaconda3/envs/newwwwww/lib/python3.11/site-packages (from google-cloud-bigquery<4.0.0dev,>=1.15.0->google-cloud-aiplatform) (2.3.3)\n",
      "Requirement already satisfied: google-resumable-media<3.0dev,>=0.6.0 in /Users/sanskar/opt/anaconda3/envs/newwwwww/lib/python3.11/site-packages (from google-cloud-bigquery<4.0.0dev,>=1.15.0->google-cloud-aiplatform) (2.5.0)\n",
      "Requirement already satisfied: grpc-google-iam-v1<1.0.0dev,>=0.12.4 in /Users/sanskar/opt/anaconda3/envs/newwwwww/lib/python3.11/site-packages (from google-cloud-resource-manager<3.0.0dev,>=1.3.3->google-cloud-aiplatform) (0.12.6)\n",
      "Requirement already satisfied: pyparsing!=3.0.0,!=3.0.1,!=3.0.2,!=3.0.3,<4,>=2.4.2 in /Users/sanskar/.local/lib/python3.11/site-packages (from httplib2<1.dev0,>=0.15.0->google-api-python-client) (3.1.1)\n",
      "Requirement already satisfied: coloredlogs in /Users/sanskar/opt/anaconda3/envs/newwwwww/lib/python3.11/site-packages (from onnxruntime>=1.14.1->chromadb==0.3.26) (15.0.1)\n",
      "Requirement already satisfied: flatbuffers in /Users/sanskar/opt/anaconda3/envs/newwwwww/lib/python3.11/site-packages (from onnxruntime>=1.14.1->chromadb==0.3.26) (23.5.26)\n",
      "Requirement already satisfied: sympy in /Users/sanskar/opt/anaconda3/envs/newwwwww/lib/python3.11/site-packages (from onnxruntime>=1.14.1->chromadb==0.3.26) (1.12)\n",
      "Requirement already satisfied: monotonic>=1.5 in /Users/sanskar/opt/anaconda3/envs/newwwwww/lib/python3.11/site-packages (from posthog>=2.4.0->chromadb==0.3.26) (1.6)\n",
      "Requirement already satisfied: backoff>=1.10.0 in /Users/sanskar/opt/anaconda3/envs/newwwwww/lib/python3.11/site-packages (from posthog>=2.4.0->chromadb==0.3.26) (2.2.1)\n",
      "Requirement already satisfied: idna<4,>=2.5 in /Users/sanskar/opt/anaconda3/envs/newwwwww/lib/python3.11/site-packages (from requests<3,>=2->langchain==0.0.229) (3.4)\n",
      "Requirement already satisfied: greenlet!=0.4.17 in /Users/sanskar/opt/anaconda3/envs/newwwwww/lib/python3.11/site-packages (from SQLAlchemy<3,>=1.4->langchain==0.0.229) (2.0.2)\n",
      "Requirement already satisfied: click>=7.0 in /Users/sanskar/opt/anaconda3/envs/newwwwww/lib/python3.11/site-packages (from uvicorn[standard]>=0.18.3->chromadb==0.3.26) (8.1.7)\n",
      "Requirement already satisfied: h11>=0.8 in /Users/sanskar/opt/anaconda3/envs/newwwwww/lib/python3.11/site-packages (from uvicorn[standard]>=0.18.3->chromadb==0.3.26) (0.14.0)\n",
      "Requirement already satisfied: httptools>=0.5.0 in /Users/sanskar/opt/anaconda3/envs/newwwwww/lib/python3.11/site-packages (from uvicorn[standard]>=0.18.3->chromadb==0.3.26) (0.6.0)\n",
      "Requirement already satisfied: python-dotenv>=0.13 in /Users/sanskar/opt/anaconda3/envs/newwwwww/lib/python3.11/site-packages (from uvicorn[standard]>=0.18.3->chromadb==0.3.26) (1.0.0)\n",
      "Requirement already satisfied: uvloop!=0.15.0,!=0.15.1,>=0.14.0 in /Users/sanskar/opt/anaconda3/envs/newwwwww/lib/python3.11/site-packages (from uvicorn[standard]>=0.18.3->chromadb==0.3.26) (0.17.0)\n",
      "Requirement already satisfied: watchfiles>=0.13 in /Users/sanskar/opt/anaconda3/envs/newwwwww/lib/python3.11/site-packages (from uvicorn[standard]>=0.18.3->chromadb==0.3.26) (0.20.0)\n",
      "Requirement already satisfied: websockets>=10.4 in /Users/sanskar/opt/anaconda3/envs/newwwwww/lib/python3.11/site-packages (from uvicorn[standard]>=0.18.3->chromadb==0.3.26) (11.0.3)\n",
      "Requirement already satisfied: sniffio>=1.1 in /Users/sanskar/opt/anaconda3/envs/newwwwww/lib/python3.11/site-packages (from anyio<4.0.0,>=3.7.1->fastapi>=0.85.1->chromadb==0.3.26) (1.3.0)\n",
      "Requirement already satisfied: google-crc32c<2.0dev,>=1.0 in /Users/sanskar/opt/anaconda3/envs/newwwwww/lib/python3.11/site-packages (from google-resumable-media<3.0dev,>=0.6.0->google-cloud-bigquery<4.0.0dev,>=1.15.0->google-cloud-aiplatform) (1.5.0)\n",
      "Requirement already satisfied: pyasn1<0.6.0,>=0.4.6 in /Users/sanskar/opt/anaconda3/envs/newwwwww/lib/python3.11/site-packages (from pyasn1-modules>=0.2.1->google-auth<3.0.0.dev0,>=1.19.0->google-api-python-client) (0.5.0)\n",
      "Requirement already satisfied: humanfriendly>=9.1 in /Users/sanskar/opt/anaconda3/envs/newwwwww/lib/python3.11/site-packages (from coloredlogs->onnxruntime>=1.14.1->chromadb==0.3.26) (10.0)\n",
      "Requirement already satisfied: mpmath>=0.19 in /Users/sanskar/opt/anaconda3/envs/newwwwww/lib/python3.11/site-packages (from sympy->onnxruntime>=1.14.1->chromadb==0.3.26) (1.3.0)\n"
     ]
    }
   ],
   "source": [
    "! pip install google-cloud-aiplatform langchain==0.0.229 chromadb==0.3.26 pydantic==1.10.8 typing-inspect==0.8.0 typing_extensions==4.5.0 pandas datasets google-api-python-client pypdf faiss-cpu transformers config --upgrade --user"
   ]
  },
  {
   "cell_type": "code",
   "execution_count": 2,
   "metadata": {},
   "outputs": [
    {
     "name": "stdout",
     "output_type": "stream",
     "text": [
      "LangChain version: 0.0.229\n",
      "Vertex AI SDK version: 1.32.0\n"
     ]
    }
   ],
   "source": [
    "# Utils\n",
    "import time\n",
    "from typing import List\n",
    "\n",
    "# Langchain\n",
    "import langchain\n",
    "from pydantic import BaseModel\n",
    "\n",
    "print(f\"LangChain version: {langchain.__version__}\")\n",
    "\n",
    "# Vertex AI\n",
    "from google.cloud import aiplatform\n",
    "from langchain.chat_models import ChatVertexAI\n",
    "from langchain.embeddings import VertexAIEmbeddings\n",
    "from langchain.llms import VertexAI\n",
    "from langchain.schema import HumanMessage, SystemMessage\n",
    "\n",
    "print(f\"Vertex AI SDK version: {aiplatform.__version__}\")"
   ]
  },
  {
   "cell_type": "code",
   "execution_count": 3,
   "metadata": {},
   "outputs": [],
   "source": [
    "# Utility functions for Embeddings API with rate limiting\n",
    "def rate_limit(max_per_minute):\n",
    "    period = 60 / max_per_minute\n",
    "    print(\"Waiting\")\n",
    "    while True:\n",
    "        before = time.time()\n",
    "        yield\n",
    "        after = time.time()\n",
    "        elapsed = after - before\n",
    "        sleep_time = max(0, period - elapsed)\n",
    "        if sleep_time > 0:\n",
    "            print(\".\", end=\"\")\n",
    "            time.sleep(sleep_time)\n",
    "\n",
    "\n",
    "class CustomVertexAIEmbeddings(VertexAIEmbeddings, BaseModel):\n",
    "    requests_per_minute: int\n",
    "    num_instances_per_batch: int\n",
    "\n",
    "    # Overriding embed_documents method\n",
    "    def embed_documents(self, texts: List[str]):\n",
    "        limiter = rate_limit(self.requests_per_minute)\n",
    "        results = []\n",
    "        docs = list(texts)\n",
    "\n",
    "        while docs:\n",
    "            # Working in batches because the API accepts maximum 5\n",
    "            # documents per request to get embeddings\n",
    "            head, docs = (\n",
    "                docs[: self.num_instances_per_batch],\n",
    "                docs[self.num_instances_per_batch :],\n",
    "            )\n",
    "            chunk = self.client.get_embeddings(head)\n",
    "            results.extend(chunk)\n",
    "            next(limiter)\n",
    "\n",
    "        return [r.values for r in results]"
   ]
  },
  {
   "cell_type": "code",
   "execution_count": 4,
   "metadata": {},
   "outputs": [
    {
     "name": "stdout",
     "output_type": "stream",
     "text": [
      "cloudpickle is not installed. Please call `pip install google-cloud-aiplatform[preview]`.\n"
     ]
    }
   ],
   "source": [
    "# LLM model\n",
    "llm = VertexAI(\n",
    "    model_name=\"text-bison@001\",\n",
    "    max_output_tokens=256,\n",
    "    temperature=0.1,\n",
    "    top_p=0.8,\n",
    "    top_k=40,\n",
    "    verbose=True,\n",
    ")\n",
    "\n",
    "# Chat\n",
    "chat = ChatVertexAI()\n",
    "\n",
    "# Embedding\n",
    "EMBEDDING_QPM = 100\n",
    "EMBEDDING_NUM_BATCH = 5\n",
    "embeddings = CustomVertexAIEmbeddings(\n",
    "    requests_per_minute=EMBEDDING_QPM,\n",
    "    num_instances_per_batch=EMBEDDING_NUM_BATCH,\n",
    ")"
   ]
  },
  {
   "cell_type": "code",
   "execution_count": 5,
   "metadata": {},
   "outputs": [],
   "source": [
    "# Ingest PDF files\n",
    "from langchain.document_loaders import PyPDFLoader\n",
    "\n",
    "# Load GOOG's 10K annual report (92 pages).\n",
    "url = \"https://abc.xyz/investor/static/pdf/20230203_alphabet_10K.pdf\"\n",
    "loader = PyPDFLoader(url)\n",
    "documents = loader.load()"
   ]
  },
  {
   "cell_type": "code",
   "execution_count": 6,
   "metadata": {},
   "outputs": [
    {
     "name": "stdout",
     "output_type": "stream",
     "text": [
      "# of documents = 263\n"
     ]
    }
   ],
   "source": [
    "# split the documents into chunks\n",
    "from langchain.text_splitter import RecursiveCharacterTextSplitter\n",
    "\n",
    "text_splitter = RecursiveCharacterTextSplitter(chunk_size=1500, chunk_overlap=0)\n",
    "docs = text_splitter.split_documents(documents)\n",
    "print(f\"# of documents = {len(docs)}\")"
   ]
  },
  {
   "cell_type": "code",
   "execution_count": 7,
   "metadata": {},
   "outputs": [
    {
     "data": {
      "text/plain": [
       "CustomVertexAIEmbeddings(client=<vertexai.preview.language_models._PreviewTextEmbeddingModel object at 0x10dcf79d0>, model_name='textembedding-gecko', temperature=0.0, max_output_tokens=128, top_p=0.95, top_k=40, stop=None, project=None, location='us-central1', credentials=None, request_parallelism=5, max_retries=6, requests_per_minute=100, num_instances_per_batch=5)"
      ]
     },
     "execution_count": 7,
     "metadata": {},
     "output_type": "execute_result"
    }
   ],
   "source": [
    "# select embedding engine - we use Vertex PaLM Embeddings API\n",
    "embeddings"
   ]
  },
  {
   "cell_type": "code",
   "execution_count": 8,
   "metadata": {},
   "outputs": [
    {
     "ename": "InvalidInputException",
     "evalue": "Invalid Input Error: Required module 'pandas.core.arrays.arrow.dtype' failed to import, due to the following Python exception:\nModuleNotFoundError: No module named 'pandas.core.arrays.arrow.dtype'",
     "output_type": "error",
     "traceback": [
      "\u001b[0;31m---------------------------------------------------------------------------\u001b[0m",
      "\u001b[0;31mInvalidInputException\u001b[0m                     Traceback (most recent call last)",
      "Cell \u001b[0;32mIn[8], line 5\u001b[0m\n\u001b[1;32m      1\u001b[0m \u001b[39m# Store docs in local vectorstore as index\u001b[39;00m\n\u001b[1;32m      2\u001b[0m \u001b[39m# it may take a while since API is rate limited\u001b[39;00m\n\u001b[1;32m      3\u001b[0m \u001b[39mfrom\u001b[39;00m \u001b[39mlangchain\u001b[39;00m\u001b[39m.\u001b[39;00m\u001b[39mvectorstores\u001b[39;00m \u001b[39mimport\u001b[39;00m Chroma\n\u001b[0;32m----> 5\u001b[0m db \u001b[39m=\u001b[39m Chroma\u001b[39m.\u001b[39;49mfrom_documents(docs, embeddings)\n",
      "File \u001b[0;32m~/.local/lib/python3.11/site-packages/langchain/vectorstores/chroma.py:489\u001b[0m, in \u001b[0;36mChroma.from_documents\u001b[0;34m(cls, documents, embedding, ids, collection_name, persist_directory, client_settings, client, **kwargs)\u001b[0m\n\u001b[1;32m    487\u001b[0m texts \u001b[39m=\u001b[39m [doc\u001b[39m.\u001b[39mpage_content \u001b[39mfor\u001b[39;00m doc \u001b[39min\u001b[39;00m documents]\n\u001b[1;32m    488\u001b[0m metadatas \u001b[39m=\u001b[39m [doc\u001b[39m.\u001b[39mmetadata \u001b[39mfor\u001b[39;00m doc \u001b[39min\u001b[39;00m documents]\n\u001b[0;32m--> 489\u001b[0m \u001b[39mreturn\u001b[39;00m \u001b[39mcls\u001b[39;49m\u001b[39m.\u001b[39;49mfrom_texts(\n\u001b[1;32m    490\u001b[0m     texts\u001b[39m=\u001b[39;49mtexts,\n\u001b[1;32m    491\u001b[0m     embedding\u001b[39m=\u001b[39;49membedding,\n\u001b[1;32m    492\u001b[0m     metadatas\u001b[39m=\u001b[39;49mmetadatas,\n\u001b[1;32m    493\u001b[0m     ids\u001b[39m=\u001b[39;49mids,\n\u001b[1;32m    494\u001b[0m     collection_name\u001b[39m=\u001b[39;49mcollection_name,\n\u001b[1;32m    495\u001b[0m     persist_directory\u001b[39m=\u001b[39;49mpersist_directory,\n\u001b[1;32m    496\u001b[0m     client_settings\u001b[39m=\u001b[39;49mclient_settings,\n\u001b[1;32m    497\u001b[0m     client\u001b[39m=\u001b[39;49mclient,\n\u001b[1;32m    498\u001b[0m )\n",
      "File \u001b[0;32m~/.local/lib/python3.11/site-packages/langchain/vectorstores/chroma.py:450\u001b[0m, in \u001b[0;36mChroma.from_texts\u001b[0;34m(cls, texts, embedding, metadatas, ids, collection_name, persist_directory, client_settings, client, **kwargs)\u001b[0m\n\u001b[1;32m    420\u001b[0m \u001b[39m@classmethod\u001b[39m\n\u001b[1;32m    421\u001b[0m \u001b[39mdef\u001b[39;00m \u001b[39mfrom_texts\u001b[39m(\n\u001b[1;32m    422\u001b[0m     \u001b[39mcls\u001b[39m: Type[Chroma],\n\u001b[0;32m   (...)\u001b[0m\n\u001b[1;32m    431\u001b[0m     \u001b[39m*\u001b[39m\u001b[39m*\u001b[39mkwargs: Any,\n\u001b[1;32m    432\u001b[0m ) \u001b[39m-\u001b[39m\u001b[39m>\u001b[39m Chroma:\n\u001b[1;32m    433\u001b[0m \u001b[39m    \u001b[39m\u001b[39m\"\"\"Create a Chroma vectorstore from a raw documents.\u001b[39;00m\n\u001b[1;32m    434\u001b[0m \n\u001b[1;32m    435\u001b[0m \u001b[39m    If a persist_directory is specified, the collection will be persisted there.\u001b[39;00m\n\u001b[0;32m   (...)\u001b[0m\n\u001b[1;32m    448\u001b[0m \u001b[39m        Chroma: Chroma vectorstore.\u001b[39;00m\n\u001b[1;32m    449\u001b[0m \u001b[39m    \"\"\"\u001b[39;00m\n\u001b[0;32m--> 450\u001b[0m     chroma_collection \u001b[39m=\u001b[39m \u001b[39mcls\u001b[39;49m(\n\u001b[1;32m    451\u001b[0m         collection_name\u001b[39m=\u001b[39;49mcollection_name,\n\u001b[1;32m    452\u001b[0m         embedding_function\u001b[39m=\u001b[39;49membedding,\n\u001b[1;32m    453\u001b[0m         persist_directory\u001b[39m=\u001b[39;49mpersist_directory,\n\u001b[1;32m    454\u001b[0m         client_settings\u001b[39m=\u001b[39;49mclient_settings,\n\u001b[1;32m    455\u001b[0m         client\u001b[39m=\u001b[39;49mclient,\n\u001b[1;32m    456\u001b[0m     )\n\u001b[1;32m    457\u001b[0m     chroma_collection\u001b[39m.\u001b[39madd_texts(texts\u001b[39m=\u001b[39mtexts, metadatas\u001b[39m=\u001b[39mmetadatas, ids\u001b[39m=\u001b[39mids)\n\u001b[1;32m    458\u001b[0m     \u001b[39mreturn\u001b[39;00m chroma_collection\n",
      "File \u001b[0;32m~/.local/lib/python3.11/site-packages/langchain/vectorstores/chroma.py:96\u001b[0m, in \u001b[0;36mChroma.__init__\u001b[0;34m(self, collection_name, embedding_function, persist_directory, client_settings, collection_metadata, client)\u001b[0m\n\u001b[1;32m     92\u001b[0m \u001b[39mself\u001b[39m\u001b[39m.\u001b[39m_embedding_function \u001b[39m=\u001b[39m embedding_function\n\u001b[1;32m     93\u001b[0m \u001b[39mself\u001b[39m\u001b[39m.\u001b[39m_persist_directory \u001b[39m=\u001b[39m (\n\u001b[1;32m     94\u001b[0m     \u001b[39mself\u001b[39m\u001b[39m.\u001b[39m_client_settings\u001b[39m.\u001b[39mpersist_directory \u001b[39mor\u001b[39;00m persist_directory\n\u001b[1;32m     95\u001b[0m )\n\u001b[0;32m---> 96\u001b[0m \u001b[39mself\u001b[39m\u001b[39m.\u001b[39m_collection \u001b[39m=\u001b[39m \u001b[39mself\u001b[39;49m\u001b[39m.\u001b[39;49m_client\u001b[39m.\u001b[39;49mget_or_create_collection(\n\u001b[1;32m     97\u001b[0m     name\u001b[39m=\u001b[39;49mcollection_name,\n\u001b[1;32m     98\u001b[0m     embedding_function\u001b[39m=\u001b[39;49m\u001b[39mself\u001b[39;49m\u001b[39m.\u001b[39;49m_embedding_function\u001b[39m.\u001b[39;49membed_documents\n\u001b[1;32m     99\u001b[0m     \u001b[39mif\u001b[39;49;00m \u001b[39mself\u001b[39;49m\u001b[39m.\u001b[39;49m_embedding_function \u001b[39mis\u001b[39;49;00m \u001b[39mnot\u001b[39;49;00m \u001b[39mNone\u001b[39;49;00m\n\u001b[1;32m    100\u001b[0m     \u001b[39melse\u001b[39;49;00m \u001b[39mNone\u001b[39;49;00m,\n\u001b[1;32m    101\u001b[0m     metadata\u001b[39m=\u001b[39;49mcollection_metadata,\n\u001b[1;32m    102\u001b[0m )\n",
      "File \u001b[0;32m~/opt/anaconda3/envs/newwwwww/lib/python3.11/site-packages/chromadb/api/local.py:141\u001b[0m, in \u001b[0;36mLocalAPI.get_or_create_collection\u001b[0;34m(self, name, metadata, embedding_function)\u001b[0m\n\u001b[1;32m    119\u001b[0m \u001b[39m@override\u001b[39m\n\u001b[1;32m    120\u001b[0m \u001b[39mdef\u001b[39;00m \u001b[39mget_or_create_collection\u001b[39m(\n\u001b[1;32m    121\u001b[0m     \u001b[39mself\u001b[39m,\n\u001b[0;32m   (...)\u001b[0m\n\u001b[1;32m    124\u001b[0m     embedding_function: Optional[EmbeddingFunction] \u001b[39m=\u001b[39m ef\u001b[39m.\u001b[39mDefaultEmbeddingFunction(),\n\u001b[1;32m    125\u001b[0m ) \u001b[39m-\u001b[39m\u001b[39m>\u001b[39m Collection:\n\u001b[1;32m    126\u001b[0m \u001b[39m    \u001b[39m\u001b[39m\"\"\"Get or create a collection with the given name and metadata.\u001b[39;00m\n\u001b[1;32m    127\u001b[0m \u001b[39m    Args:\u001b[39;00m\n\u001b[1;32m    128\u001b[0m \u001b[39m        name: The name of the collection to get or create\u001b[39;00m\n\u001b[0;32m   (...)\u001b[0m\n\u001b[1;32m    139\u001b[0m \u001b[39m        ```\u001b[39;00m\n\u001b[1;32m    140\u001b[0m \u001b[39m    \"\"\"\u001b[39;00m\n\u001b[0;32m--> 141\u001b[0m     \u001b[39mreturn\u001b[39;00m \u001b[39mself\u001b[39;49m\u001b[39m.\u001b[39;49mcreate_collection(\n\u001b[1;32m    142\u001b[0m         name, metadata, embedding_function, get_or_create\u001b[39m=\u001b[39;49m\u001b[39mTrue\u001b[39;49;00m\n\u001b[1;32m    143\u001b[0m     )\n",
      "File \u001b[0;32m~/opt/anaconda3/envs/newwwwww/lib/python3.11/site-packages/chromadb/api/local.py:110\u001b[0m, in \u001b[0;36mLocalAPI.create_collection\u001b[0;34m(self, name, metadata, embedding_function, get_or_create)\u001b[0m\n\u001b[1;32m     85\u001b[0m \u001b[39m\u001b[39m\u001b[39m\"\"\"Create a new collection with the given name and metadata.\u001b[39;00m\n\u001b[1;32m     86\u001b[0m \u001b[39mArgs:\u001b[39;00m\n\u001b[1;32m     87\u001b[0m \u001b[39m    name: The name of the collection to create\u001b[39;00m\n\u001b[0;32m   (...)\u001b[0m\n\u001b[1;32m    106\u001b[0m \u001b[39m    ```\u001b[39;00m\n\u001b[1;32m    107\u001b[0m \u001b[39m\"\"\"\u001b[39;00m\n\u001b[1;32m    108\u001b[0m check_index_name(name)\n\u001b[0;32m--> 110\u001b[0m res \u001b[39m=\u001b[39m \u001b[39mself\u001b[39;49m\u001b[39m.\u001b[39;49m_db\u001b[39m.\u001b[39;49mcreate_collection(name, metadata, get_or_create)\n\u001b[1;32m    111\u001b[0m \u001b[39mreturn\u001b[39;00m Collection(\n\u001b[1;32m    112\u001b[0m     client\u001b[39m=\u001b[39m\u001b[39mself\u001b[39m,\n\u001b[1;32m    113\u001b[0m     name\u001b[39m=\u001b[39mname,\n\u001b[0;32m   (...)\u001b[0m\n\u001b[1;32m    116\u001b[0m     metadata\u001b[39m=\u001b[39mres[\u001b[39m0\u001b[39m][\u001b[39m2\u001b[39m],\n\u001b[1;32m    117\u001b[0m )\n",
      "File \u001b[0;32m~/opt/anaconda3/envs/newwwwww/lib/python3.11/site-packages/chromadb/db/duckdb.py:98\u001b[0m, in \u001b[0;36mDuckDB.create_collection\u001b[0;34m(self, name, metadata, get_or_create)\u001b[0m\n\u001b[1;32m     90\u001b[0m \u001b[39m@override\u001b[39m\n\u001b[1;32m     91\u001b[0m \u001b[39mdef\u001b[39;00m \u001b[39mcreate_collection\u001b[39m(\n\u001b[1;32m     92\u001b[0m     \u001b[39mself\u001b[39m,\n\u001b[0;32m   (...)\u001b[0m\n\u001b[1;32m     96\u001b[0m ) \u001b[39m-\u001b[39m\u001b[39m>\u001b[39m Sequence:\n\u001b[1;32m     97\u001b[0m     \u001b[39m# poor man's unique constraint\u001b[39;00m\n\u001b[0;32m---> 98\u001b[0m     dupe_check \u001b[39m=\u001b[39m \u001b[39mself\u001b[39;49m\u001b[39m.\u001b[39;49mget_collection(name)\n\u001b[1;32m     99\u001b[0m     \u001b[39mif\u001b[39;00m \u001b[39mlen\u001b[39m(dupe_check) \u001b[39m>\u001b[39m \u001b[39m0\u001b[39m:\n\u001b[1;32m    100\u001b[0m         \u001b[39mif\u001b[39;00m get_or_create \u001b[39mis\u001b[39;00m \u001b[39mTrue\u001b[39;00m:\n",
      "File \u001b[0;32m~/opt/anaconda3/envs/newwwwww/lib/python3.11/site-packages/chromadb/db/duckdb.py:123\u001b[0m, in \u001b[0;36mDuckDB.get_collection\u001b[0;34m(self, name)\u001b[0m\n\u001b[1;32m    121\u001b[0m \u001b[39m@override\u001b[39m\n\u001b[1;32m    122\u001b[0m \u001b[39mdef\u001b[39;00m \u001b[39mget_collection\u001b[39m(\u001b[39mself\u001b[39m, name: \u001b[39mstr\u001b[39m) \u001b[39m-\u001b[39m\u001b[39m>\u001b[39m Sequence:\n\u001b[0;32m--> 123\u001b[0m     res \u001b[39m=\u001b[39m \u001b[39mself\u001b[39;49m\u001b[39m.\u001b[39;49m_conn\u001b[39m.\u001b[39;49mexecute(\n\u001b[1;32m    124\u001b[0m \u001b[39m        \u001b[39;49m\u001b[39m\"\"\"SELECT * FROM collections WHERE name = ?\"\"\"\u001b[39;49;00m, [name]\n\u001b[1;32m    125\u001b[0m     )\u001b[39m.\u001b[39mfetchall()\n\u001b[1;32m    126\u001b[0m     \u001b[39m# json.loads the metadata\u001b[39;00m\n\u001b[1;32m    127\u001b[0m     \u001b[39mreturn\u001b[39;00m [[x[\u001b[39m0\u001b[39m], x[\u001b[39m1\u001b[39m], json\u001b[39m.\u001b[39mloads(x[\u001b[39m2\u001b[39m])] \u001b[39mfor\u001b[39;00m x \u001b[39min\u001b[39;00m res]\n",
      "\u001b[0;31mInvalidInputException\u001b[0m: Invalid Input Error: Required module 'pandas.core.arrays.arrow.dtype' failed to import, due to the following Python exception:\nModuleNotFoundError: No module named 'pandas.core.arrays.arrow.dtype'"
     ]
    }
   ],
   "source": [
    "# Store docs in local vectorstore as index\n",
    "# it may take a while since API is rate limited\n",
    "from langchain.vectorstores import Chroma\n",
    "\n",
    "db = Chroma.from_documents(docs, embeddings)"
   ]
  },
  {
   "cell_type": "code",
   "execution_count": null,
   "metadata": {},
   "outputs": [],
   "source": [
    "# Expose index to the retriever\n",
    "retriever = db.as_retriever(search_type=\"similarity\", search_kwargs={\"k\": 2})"
   ]
  },
  {
   "cell_type": "code",
   "execution_count": null,
   "metadata": {},
   "outputs": [],
   "source": [
    "# Create chain to answer questions\n",
    "from langchain.chains import RetrievalQA\n",
    "\n",
    "# Uses LLM to synthesize results from the search index.\n",
    "# We use Vertex PaLM Text API for LLM\n",
    "qa = RetrievalQA.from_chain_type(\n",
    "    llm=llm, chain_type=\"stuff\", retriever=retriever, return_source_documents=True\n",
    ")"
   ]
  },
  {
   "cell_type": "code",
   "execution_count": null,
   "metadata": {},
   "outputs": [
    {
     "name": "stdout",
     "output_type": "stream",
     "text": [
      "{'query': \"What was Alphabet's net income in 2022?\", 'result': \"Alphabet's net income in 2022 was $59,972.\", 'source_documents': [Document(page_content='Alphabet Inc.\\nCONSOLIDATED STATEMENTS OF INCOME\\n(in millions, except per share amounts)\\n Year Ended December 31,\\n 2020 2021 2022\\nRevenues $ 182,527 $ 257,637 $ 282,836 \\nCosts and expenses:\\nCost of revenues  84,732  110,939  126,203 \\nResearch and development  27,573  31,562  39,500 \\nSales and marketing  17,946  22,912  26,567 \\nGeneral and administrative  11,052  13,510  15,724 \\nTotal costs and expenses  141,303  178,923  207,994 \\nIncome from operations  41,224  78,714  74,842 \\nOther income (expense), net  6,858  12,020  (3,514) \\nIncome before income taxes  48,082  90,734  71,328 \\nProvision for income taxes  7,813  14,701  11,356 \\nNet income $ 40,269 $ 76,033 $ 59,972 \\nBasic net income per share of Class A, Class B, and Class C stock $ 2.96 $ 5.69 $ 4.59 \\nDiluted net income per share of Class A, Class B, and Class C stock $ 2.93 $ 5.61 $ 4.56 \\nSee accompanying notes.Table of Contents Alphabet Inc.\\n48', metadata={'source': '/var/folders/kw/9gmtnxx50gs_vlrfc5k1jyy00000gn/T/tmppetaflw5/tmp.pdf', 'page': 48}), Document(page_content='restricted stock units and other  0  (9,754)  0  (1)  (9,755) \\nRepurchases of stock  (530)  (3,404)  0  (55,892)  (59,296) \\nSale of interest in consolidated entities  0  35  0  0  35 \\nNet income  0  0  0  59,972  59,972 \\nOther comprehensive income (loss)  0  0  (5,980)  0  (5,980) \\nBalance as of December 31, 2022  12,849 $ 68,184 $ (7,603) $ 195,563 $ 256,144 \\nSee accompanying notes.Table of Contents Alphabet Inc.\\n50', metadata={'source': '/var/folders/kw/9gmtnxx50gs_vlrfc5k1jyy00000gn/T/tmppetaflw5/tmp.pdf', 'page': 50})]}\n"
     ]
    }
   ],
   "source": [
    "query = \"What was Alphabet's net income in 2022?\"\n",
    "result = qa({\"query\": query})\n",
    "print(result)"
   ]
  },
  {
   "cell_type": "code",
   "execution_count": null,
   "metadata": {},
   "outputs": [
    {
     "name": "stdout",
     "output_type": "stream",
     "text": [
      "{'query': 'How much office space reduction took place in 2023?', 'result': 'The office space reduction in 2023 was approximately $0.5 billion.', 'source_documents': [Document(page_content='For revenues by geography see Note 2 .\\nThe following table presents long-lived assets by geographic area, which includes property and equipment, net \\nand operating lease assets (in millions):\\nAs of December 31,\\n 2021 2022\\nLong-lived assets:\\nUnited States $ 80,207 $ 93,565 \\nInternational  30,351  33,484 \\nTotal long-lived assets $ 110,558 $ 127,049 \\nNote 16.    Subsequent Event  \\nIn January 2023, we announced a reduction of our workforce of approximately 12,000  roles. We expect to \\nincur employee severance and related charges of $1.9 billion  to $2.3 billion , the majority of which will be recognized in \\nthe first quarter of 2023.\\nIn addition, we are taking actions to optimize our global office space. As a result we expect to incur exit costs \\nrelating to office space reductions of approximately $0.5 billion  in the first quarter of 2023.  We may incur additional \\ncharges in the future as we further evaluate our real estate needs. Table of Contents Alphabet Inc.\\n83', metadata={'source': '/var/folders/kw/9gmtnxx50gs_vlrfc5k1jyy00000gn/T/tmppetaflw5/tmp.pdf', 'page': 83}), Document(page_content='•Beginning in the first quarter of 2022, we suspended the vast majority of our commercial activities in Russia \\nand effectively ceased business activities of our Russian entity. The ongoing effect of these direct actions on \\nour financial results was not material. The broader economic effects resulting from the war in Ukraine on our \\nfuture financial results may be unpredictable.\\n•Repurchases of Cla ss A and Class C shares were $59.3 billion  for the year ended December 31, 2022 . See \\nNote 11  of the Notes to Consolidated Financial Statements included in Item 8 of this Annual Report on Form \\n10-K for additional information.\\n•Operating cash flow was $91.5 billion  for the year ended December 31, 2022.\\n•Capital expenditures, which primarily reflected in vestments in technical infrastructure , were $31.5 billion  for the \\nyear ended December 31, 2022.\\n•As of December 31, 2022 , we had  190,234  employees .\\nAddition ally, looking ahead to fiscal year 2023:\\n•In January 2023, we announced a reduction of our workforce of approximately 12,000  roles. We expect to \\nincur employee severance and related charges of $1.9 billion  to $2.3 billion , the majority of which will be \\nrecognized in the first quarter of 2023.\\nIn addition, we are taking actions to optimize our global office space. As a result we expect to incur exit costs \\nrelating to office space reductions of approximately $0.5 billion  in the first quarter of 2023. We may incur', metadata={'source': '/var/folders/kw/9gmtnxx50gs_vlrfc5k1jyy00000gn/T/tmppetaflw5/tmp.pdf', 'page': 31})]}\n"
     ]
    }
   ],
   "source": [
    "query = \"How much office space reduction took place in 2023?\"\n",
    "result = qa({\"query\": query})\n",
    "print(result)"
   ]
  },
  {
   "cell_type": "code",
   "execution_count": null,
   "metadata": {},
   "outputs": [],
   "source": []
  }
 ],
 "metadata": {
  "kernelspec": {
   "display_name": "newwwwww",
   "language": "python",
   "name": "python3"
  },
  "language_info": {
   "codemirror_mode": {
    "name": "ipython",
    "version": 3
   },
   "file_extension": ".py",
   "mimetype": "text/x-python",
   "name": "python",
   "nbconvert_exporter": "python",
   "pygments_lexer": "ipython3",
   "version": "3.11.5"
  },
  "orig_nbformat": 4
 },
 "nbformat": 4,
 "nbformat_minor": 2
}
