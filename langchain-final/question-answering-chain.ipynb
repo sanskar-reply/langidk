{
 "cells": [
  {
   "cell_type": "markdown",
   "metadata": {},
   "source": [
    "Uncomment the next code line to install the following packages"
   ]
  },
  {
   "cell_type": "code",
   "execution_count": 1,
   "metadata": {},
   "outputs": [],
   "source": [
    "# ! pip install google-cloud-aiplatform langchain==0.0.229 chromadb==0.3.26 pydantic==1.10.8 typing-inspect==0.8.0 typing_extensions==4.5.0 pandas datasets google-api-python-client pypdf faiss-cpu transformers config --upgrade --user"
   ]
  },
  {
   "cell_type": "code",
   "execution_count": 2,
   "metadata": {},
   "outputs": [
    {
     "name": "stdout",
     "output_type": "stream",
     "text": [
      "LangChain version: 0.0.229\n",
      "Vertex AI SDK version: 1.32.0\n"
     ]
    }
   ],
   "source": [
    "# Utils\n",
    "import time\n",
    "from typing import List\n",
    "\n",
    "# Langchain\n",
    "import langchain\n",
    "from pydantic import BaseModel\n",
    "\n",
    "print(f\"LangChain version: {langchain.__version__}\")\n",
    "\n",
    "# Vertex AI\n",
    "from google.cloud import aiplatform\n",
    "from langchain.chat_models import ChatVertexAI\n",
    "from langchain.embeddings import VertexAIEmbeddings\n",
    "from langchain.llms import VertexAI\n",
    "from langchain.schema import HumanMessage, SystemMessage\n",
    "\n",
    "print(f\"Vertex AI SDK version: {aiplatform.__version__}\")"
   ]
  },
  {
   "cell_type": "code",
   "execution_count": 3,
   "metadata": {},
   "outputs": [],
   "source": [
    "# Utility functions for Embeddings API with rate limiting\n",
    "def rate_limit(max_per_minute):\n",
    "    period = 60 / max_per_minute\n",
    "    print(\"Waiting\")\n",
    "    while True:\n",
    "        before = time.time()\n",
    "        yield\n",
    "        after = time.time()\n",
    "        elapsed = after - before\n",
    "        sleep_time = max(0, period - elapsed)\n",
    "        if sleep_time > 0:\n",
    "            print(\".\", end=\"\")\n",
    "            time.sleep(sleep_time)\n",
    "\n",
    "\n",
    "class CustomVertexAIEmbeddings(VertexAIEmbeddings, BaseModel):\n",
    "    requests_per_minute: int\n",
    "    num_instances_per_batch: int\n",
    "\n",
    "    # Overriding embed_documents method\n",
    "    def embed_documents(self, texts: List[str]):\n",
    "        limiter = rate_limit(self.requests_per_minute)\n",
    "        results = []\n",
    "        docs = list(texts)\n",
    "\n",
    "        while docs:\n",
    "            # Working in batches because the API accepts maximum 5\n",
    "            # documents per request to get embeddings\n",
    "            head, docs = (\n",
    "                docs[: self.num_instances_per_batch],\n",
    "                docs[self.num_instances_per_batch :],\n",
    "            )\n",
    "            chunk = self.client.get_embeddings(head)\n",
    "            results.extend(chunk)\n",
    "            next(limiter)\n",
    "\n",
    "        return [r.values for r in results]"
   ]
  },
  {
   "cell_type": "code",
   "execution_count": 4,
   "metadata": {},
   "outputs": [
    {
     "name": "stdout",
     "output_type": "stream",
     "text": [
      "cloudpickle is not installed. Please call `pip install google-cloud-aiplatform[preview]`.\n"
     ]
    }
   ],
   "source": [
    "# LLM model\n",
    "llm = VertexAI(\n",
    "    model_name=\"text-bison@001\",\n",
    "    max_output_tokens=256,\n",
    "    temperature=0.1,\n",
    "    top_p=0.8,\n",
    "    top_k=40,\n",
    "    verbose=True,\n",
    ")\n",
    "\n",
    "# Chat\n",
    "chat = ChatVertexAI()\n",
    "\n",
    "# Embedding\n",
    "EMBEDDING_QPM = 100\n",
    "EMBEDDING_NUM_BATCH = 5\n",
    "embeddings = CustomVertexAIEmbeddings(\n",
    "    requests_per_minute=EMBEDDING_QPM,\n",
    "    num_instances_per_batch=EMBEDDING_NUM_BATCH,\n",
    ")"
   ]
  },
  {
   "cell_type": "code",
   "execution_count": 5,
   "metadata": {},
   "outputs": [],
   "source": [
    "# Ingest PDF files\n",
    "from langchain.document_loaders import PyPDFLoader\n",
    "\n",
    "# Load GOOG's 10K annual report (92 pages).\n",
    "url = \"https://abc.xyz/investor/static/pdf/20230203_alphabet_10K.pdf\"\n",
    "loader = PyPDFLoader(url)\n",
    "documents = loader.load()"
   ]
  },
  {
   "cell_type": "code",
   "execution_count": 6,
   "metadata": {},
   "outputs": [
    {
     "name": "stdout",
     "output_type": "stream",
     "text": [
      "# of documents = 263\n"
     ]
    }
   ],
   "source": [
    "# split the documents into chunks\n",
    "from langchain.text_splitter import RecursiveCharacterTextSplitter\n",
    "\n",
    "text_splitter = RecursiveCharacterTextSplitter(chunk_size=1500, chunk_overlap=0)\n",
    "docs = text_splitter.split_documents(documents)\n",
    "print(f\"# of documents = {len(docs)}\")"
   ]
  },
  {
   "cell_type": "code",
   "execution_count": 7,
   "metadata": {},
   "outputs": [
    {
     "data": {
      "text/plain": [
       "CustomVertexAIEmbeddings(client=<vertexai.preview.language_models._PreviewTextEmbeddingModel object at 0x14000f150>, model_name='textembedding-gecko', temperature=0.0, max_output_tokens=128, top_p=0.95, top_k=40, stop=None, project=None, location='us-central1', credentials=None, request_parallelism=5, max_retries=6, requests_per_minute=100, num_instances_per_batch=5)"
      ]
     },
     "execution_count": 7,
     "metadata": {},
     "output_type": "execute_result"
    }
   ],
   "source": [
    "# select embedding engine - we use Vertex PaLM Embeddings API\n",
    "embeddings"
   ]
  },
  {
   "cell_type": "code",
   "execution_count": 9,
   "metadata": {},
   "outputs": [
    {
     "name": "stdout",
     "output_type": "stream",
     "text": [
      "Waiting\n",
      "..................................................."
     ]
    }
   ],
   "source": [
    "# Store docs in local vectorstore as index\n",
    "# it may take a while since API is rate limited\n",
    "from langchain.vectorstores import Chroma\n",
    "\n",
    "db = Chroma.from_documents(docs, embeddings)"
   ]
  },
  {
   "cell_type": "code",
   "execution_count": 10,
   "metadata": {},
   "outputs": [],
   "source": [
    "# Expose index to the retriever\n",
    "retriever = db.as_retriever(search_type=\"similarity\", search_kwargs={\"k\": 2})"
   ]
  },
  {
   "cell_type": "code",
   "execution_count": 11,
   "metadata": {},
   "outputs": [],
   "source": [
    "# Create chain to answer questions\n",
    "from langchain.chains import RetrievalQA\n",
    "\n",
    "# Uses LLM to synthesize results from the search index.\n",
    "# We use Vertex PaLM Text API for LLM\n",
    "qa = RetrievalQA.from_chain_type(\n",
    "    llm=llm, chain_type=\"stuff\", retriever=retriever, return_source_documents=True\n",
    ")"
   ]
  },
  {
   "cell_type": "code",
   "execution_count": 12,
   "metadata": {},
   "outputs": [
    {
     "name": "stdout",
     "output_type": "stream",
     "text": [
      "{'query': \"What was Alphabet's net income in 2022?\", 'result': \"Alphabet's net income in 2022 was $59,972.\", 'source_documents': [Document(page_content='Alphabet Inc.\\nCONSOLIDATED STATEMENTS OF INCOME\\n(in millions, except per share amounts)\\n Year Ended December 31,\\n 2020 2021 2022\\nRevenues $ 182,527 $ 257,637 $ 282,836 \\nCosts and expenses:\\nCost of revenues  84,732  110,939  126,203 \\nResearch and development  27,573  31,562  39,500 \\nSales and marketing  17,946  22,912  26,567 \\nGeneral and administrative  11,052  13,510  15,724 \\nTotal costs and expenses  141,303  178,923  207,994 \\nIncome from operations  41,224  78,714  74,842 \\nOther income (expense), net  6,858  12,020  (3,514) \\nIncome before income taxes  48,082  90,734  71,328 \\nProvision for income taxes  7,813  14,701  11,356 \\nNet income $ 40,269 $ 76,033 $ 59,972 \\nBasic net income per share of Class A, Class B, and Class C stock $ 2.96 $ 5.69 $ 4.59 \\nDiluted net income per share of Class A, Class B, and Class C stock $ 2.93 $ 5.61 $ 4.56 \\nSee accompanying notes.Table of Contents Alphabet Inc.\\n48', metadata={'source': '/var/folders/kw/9gmtnxx50gs_vlrfc5k1jyy00000gn/T/tmpn8_svzry/tmp.pdf', 'page': 48}), Document(page_content='restricted stock units and other  0  (9,754)  0  (1)  (9,755) \\nRepurchases of stock  (530)  (3,404)  0  (55,892)  (59,296) \\nSale of interest in consolidated entities  0  35  0  0  35 \\nNet income  0  0  0  59,972  59,972 \\nOther comprehensive income (loss)  0  0  (5,980)  0  (5,980) \\nBalance as of December 31, 2022  12,849 $ 68,184 $ (7,603) $ 195,563 $ 256,144 \\nSee accompanying notes.Table of Contents Alphabet Inc.\\n50', metadata={'source': '/var/folders/kw/9gmtnxx50gs_vlrfc5k1jyy00000gn/T/tmpn8_svzry/tmp.pdf', 'page': 50})]}\n"
     ]
    }
   ],
   "source": [
    "query = \"What was Alphabet's net income in 2022?\"\n",
    "result = qa({\"query\": query})\n",
    "print(result)"
   ]
  },
  {
   "cell_type": "code",
   "execution_count": 13,
   "metadata": {},
   "outputs": [
    {
     "name": "stdout",
     "output_type": "stream",
     "text": [
      "{'query': 'How much office space reduction took place in 2023?', 'result': 'The office space reduction in 2023 was approximately $0.5 billion.', 'source_documents': [Document(page_content='For revenues by geography see Note 2 .\\nThe following table presents long-lived assets by geographic area, which includes property and equipment, net \\nand operating lease assets (in millions):\\nAs of December 31,\\n 2021 2022\\nLong-lived assets:\\nUnited States $ 80,207 $ 93,565 \\nInternational  30,351  33,484 \\nTotal long-lived assets $ 110,558 $ 127,049 \\nNote 16.    Subsequent Event  \\nIn January 2023, we announced a reduction of our workforce of approximately 12,000  roles. We expect to \\nincur employee severance and related charges of $1.9 billion  to $2.3 billion , the majority of which will be recognized in \\nthe first quarter of 2023.\\nIn addition, we are taking actions to optimize our global office space. As a result we expect to incur exit costs \\nrelating to office space reductions of approximately $0.5 billion  in the first quarter of 2023.  We may incur additional \\ncharges in the future as we further evaluate our real estate needs. Table of Contents Alphabet Inc.\\n83', metadata={'source': '/var/folders/kw/9gmtnxx50gs_vlrfc5k1jyy00000gn/T/tmpn8_svzry/tmp.pdf', 'page': 83}), Document(page_content='•Beginning in the first quarter of 2022, we suspended the vast majority of our commercial activities in Russia \\nand effectively ceased business activities of our Russian entity. The ongoing effect of these direct actions on \\nour financial results was not material. The broader economic effects resulting from the war in Ukraine on our \\nfuture financial results may be unpredictable.\\n•Repurchases of Cla ss A and Class C shares were $59.3 billion  for the year ended December 31, 2022 . See \\nNote 11  of the Notes to Consolidated Financial Statements included in Item 8 of this Annual Report on Form \\n10-K for additional information.\\n•Operating cash flow was $91.5 billion  for the year ended December 31, 2022.\\n•Capital expenditures, which primarily reflected in vestments in technical infrastructure , were $31.5 billion  for the \\nyear ended December 31, 2022.\\n•As of December 31, 2022 , we had  190,234  employees .\\nAddition ally, looking ahead to fiscal year 2023:\\n•In January 2023, we announced a reduction of our workforce of approximately 12,000  roles. We expect to \\nincur employee severance and related charges of $1.9 billion  to $2.3 billion , the majority of which will be \\nrecognized in the first quarter of 2023.\\nIn addition, we are taking actions to optimize our global office space. As a result we expect to incur exit costs \\nrelating to office space reductions of approximately $0.5 billion  in the first quarter of 2023. We may incur', metadata={'source': '/var/folders/kw/9gmtnxx50gs_vlrfc5k1jyy00000gn/T/tmpn8_svzry/tmp.pdf', 'page': 31})]}\n"
     ]
    }
   ],
   "source": [
    "query = \"How much office space reduction took place in 2023?\"\n",
    "result = qa({\"query\": query})\n",
    "print(result)"
   ]
  }
 ],
 "metadata": {
  "kernelspec": {
   "display_name": "newwwwww",
   "language": "python",
   "name": "python3"
  },
  "language_info": {
   "codemirror_mode": {
    "name": "ipython",
    "version": 3
   },
   "file_extension": ".py",
   "mimetype": "text/x-python",
   "name": "python",
   "nbconvert_exporter": "python",
   "pygments_lexer": "ipython3",
   "version": "3.11.5"
  },
  "orig_nbformat": 4
 },
 "nbformat": 4,
 "nbformat_minor": 2
}
